{
 "cells": [
  {
   "cell_type": "code",
   "execution_count": 13,
   "id": "5f34a335-f292-44f8-a840-8a81aeb3ca8d",
   "metadata": {},
   "outputs": [],
   "source": [
    "import pandas as pd\n",
    "\n",
    "# Importing the Excel sheet\n",
    "df = pd.read_csv(\"Analysis/data_zenithe.csv\")\n",
    "# Number of rows in the filtered DataFrame\n",
    "#filtered_rows = filtered_df.shape[0]\n",
    "#print(f\"Number of rows in filtered data: {filtered_rows}\")\n",
    "\n",
    "# Filtering the DataFrame based on criteria\n",
    "#filtered_df = df[(df['CODECATE'] == 1010) & (df['PRIMNETT'] < 50000)]\n",
    "\n",
    "# Printing the filtered DataFrame and the extracted dates\n",
    "# print(filtered_df.iloc[:100].to_string())\n",
    "# filtered_df.head(100)\n",
    "# Save the filtered DataFrame to a new Excel file\n",
    "# filtered_df.to_excel(\"filtered_data.xlsx\", index=False)  # 'index=False' excludes the index column\n",
    "# print(\"Filtered data saved to 'filtered_data.xlsx'\")\n",
    "#filtered_df.info(100)\n",
    "\n",
    "#df.head()\n",
    "#df.tail(3)\n",
    "#df.info() # display information about dataset\n",
    "#chiffafa = df.iloc[:3]['CHIFAFFA'].sum()\n",
    "#print(chiffafa) \n"
   ]
  },
  {
   "cell_type": "code",
   "execution_count": null,
   "id": "1a2faf18-18d1-4f24-bd4b-fdee6d1d891b",
   "metadata": {},
   "outputs": [],
   "source": []
  },
  {
   "cell_type": "code",
   "execution_count": 56,
   "id": "a924671a-1e30-40bd-ad56-2d1ae2d3baed",
   "metadata": {},
   "outputs": [
    {
     "data": {
      "text/plain": [
       "CODEINTE\n",
       "1000    137241\n",
       "1001    109809\n",
       "1004     80154\n",
       "1017     61698\n",
       "1040     45639\n",
       "         ...  \n",
       "2066         2\n",
       "4020         2\n",
       "1126         1\n",
       "6027         1\n",
       "2138         1\n",
       "Name: count, Length: 144, dtype: int64"
      ]
     },
     "execution_count": 56,
     "metadata": {},
     "output_type": "execute_result"
    }
   ],
   "source": [
    "#importing pandas\n",
    "import pandas as pd\n",
    "#importing matplotlib\n",
    "import matplotlib.pyplot as plt\n",
    "#import csv file\n",
    "df = pd.read_csv(\"Analysis/data_zenithe.csv\")\n",
    "#printing df head\n",
    "#df.head(15)\n",
    "#printing df information\n",
    "#df.info()\n",
    "#analysing descriptive statistics\n",
    "#df.describe()\n",
    "#plot histogram for CODEINTE column\n",
    "#plt.hist(df['CODEINTE'], bins=10, alpha=0.5, label='COBEINTE')\n",
    "#plt.xlabel('Values')\n",
    "#plt.ylabel('Frequency')\n",
    "#plt.title('Histogram of CODEINTE')\n",
    "#plt.legend()\n",
    "#plt.show()\n",
    "#shows the distribution of each value\n",
    "df['CODEINTE'].value_counts()"
   ]
  },
  {
   "cell_type": "code",
   "execution_count": null,
   "id": "69d9061c-7f6b-4afc-a18b-fbb7ab402258",
   "metadata": {},
   "outputs": [],
   "source": []
  },
  {
   "cell_type": "code",
   "execution_count": null,
   "id": "4f54d7cb-653e-40b7-9009-13bedae3359f",
   "metadata": {},
   "outputs": [],
   "source": []
  }
 ],
 "metadata": {
  "kernelspec": {
   "display_name": "Python 3 (ipykernel)",
   "language": "python",
   "name": "python3"
  },
  "language_info": {
   "codemirror_mode": {
    "name": "ipython",
    "version": 3
   },
   "file_extension": ".py",
   "mimetype": "text/x-python",
   "name": "python",
   "nbconvert_exporter": "python",
   "pygments_lexer": "ipython3",
   "version": "3.12.7"
  }
 },
 "nbformat": 4,
 "nbformat_minor": 5
}
