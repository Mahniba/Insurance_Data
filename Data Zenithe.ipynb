{
 "cells": [
  {
   "cell_type": "code",
   "execution_count": 36,
   "id": "5f34a335-f292-44f8-a840-8a81aeb3ca8d",
   "metadata": {},
   "outputs": [],
   "source": [
    "import pandas as pd\n",
    "\n",
    "# Importing the Excel sheet\n",
    "df = pd.read_csv(\"data_zenithe.csv\")\n",
    "# Number of rows in the filtered DataFrame\n",
    "#filtered_rows = filtered_df.shape[0]\n",
    "#print(f\"Number of rows in filtered data: {filtered_rows}\")\n",
    "\n",
    "# Filtering the DataFrame based on criteria\n",
    "#filtered_df = df[(df['CODECATE'] == 1010) & (df['PRIMNETT'] < 50000)]\n",
    "\n",
    "# Printing the filtered DataFrame and the extracted dates\n",
    "# print(filtered_df.iloc[:100].to_string())\n",
    "# filtered_df.head(100)\n",
    "# Save the filtered DataFrame to a new Excel file\n",
    "# filtered_df.to_excel(\"filtered_data.xlsx\", index=False)  # 'index=False' excludes the index column\n",
    "# print(\"Filtered data saved to 'filtered_data.xlsx'\")\n",
    "#filtered_df.info(100)\n",
    "\n",
    "#df.head()\n",
    "#df.tail(3)\n",
    "#df.info() # display information about dataset\n",
    "#chiffafa = df.iloc[:3]['CHIFAFFA'].sum()\n",
    "#print(chiffafa) \n"
   ]
  },
  {
   "cell_type": "code",
   "execution_count": null,
   "id": "1a2faf18-18d1-4f24-bd4b-fdee6d1d891b",
   "metadata": {},
   "outputs": [],
   "source": []
  },
  {
   "cell_type": "code",
   "execution_count": null,
   "id": "a924671a-1e30-40bd-ad56-2d1ae2d3baed",
   "metadata": {},
   "outputs": [],
   "source": [
    "#importing pandas\n",
    "import pandas as pd\n",
    "#importing matplotlib\n",
    "import matplotlib.pyplot as plt\n",
    "#import csv file\n",
    "df = pd.read_csv(\"data_zenithe.csv\")\n",
    "#printing df head\n",
    "df.head(15)\n",
    "#printing df information\n",
    "df.info()\n",
    "#analysing descriptive statistics\n",
    "df.describe()\n",
    "#plot histogram for CODEINTE column\n",
    "plt.hist(df['CODEINTE'], bins=10, alpha=0.5, label='COBEINTE')\n",
    "plt.xlabel('Values')\n",
    "plt.ylabel('Frequency')\n",
    "plt.title('Histogram of CODEINTE')\n",
    "plt.legend()\n",
    "plt.show()\n",
    "#shows the distribution of each \n",
    "df['CODEINTE'].value_counts()\n",
    "#filter the data \n",
    "df_filter = df[df['CODEINTE'] == 1000]\n",
    "print(df_filter)\n",
    "# Replace all NaN values with 0\n",
    "df.fillna(0, inplace=True)\n",
    "# Remove rows with NaN\n",
    "df.dropna(inplace=True)  \n",
    "\n"
   ]
  },
  {
   "cell_type": "code",
   "execution_count": null,
   "id": "69d9061c-7f6b-4afc-a18b-fbb7ab402258",
   "metadata": {},
   "outputs": [],
   "source": [
    "\n"
   ]
  },
  {
   "cell_type": "code",
   "execution_count": null,
   "id": "4f54d7cb-653e-40b7-9009-13bedae3359f",
   "metadata": {},
   "outputs": [],
   "source": [
    "from pandasql import sqldf\n",
    "result = sqldf(\"SELECT * FROM df WHERE NUMEAVEN > 2\", globals())\n",
    "print(result.head())\n",
    "import seaborn as sns\n",
    "sns.histplot(df['CODEINTE'])\n",
    "plt.show()\n"
   ]
  },
  {
   "cell_type": "code",
   "execution_count": null,
   "id": "31dabdb2-b139-405b-9c8e-0293b1081ae9",
   "metadata": {},
   "outputs": [],
   "source": []
  },
  {
   "cell_type": "code",
   "execution_count": null,
   "id": "c216643a-3f15-4ec7-8f55-c40fc4efc708",
   "metadata": {},
   "outputs": [],
   "source": [
    "import matplotlib.pyplot as plt\n",
    "df['ASSURE'].plot(kind='bar')\n",
    "plt.show()\n"
   ]
  },
  {
   "cell_type": "code",
   "execution_count": null,
   "id": "283da623-cbd1-4849-bfe0-550661418dbd",
   "metadata": {},
   "outputs": [],
   "source": []
  }
 ],
 "metadata": {
  "kernelspec": {
   "display_name": "Python 3 (ipykernel)",
   "language": "python",
   "name": "python3"
  },
  "language_info": {
   "codemirror_mode": {
    "name": "ipython",
    "version": 3
   },
   "file_extension": ".py",
   "mimetype": "text/x-python",
   "name": "python",
   "nbconvert_exporter": "python",
   "pygments_lexer": "ipython3",
   "version": "3.12.7"
  }
 },
 "nbformat": 4,
 "nbformat_minor": 5
}
